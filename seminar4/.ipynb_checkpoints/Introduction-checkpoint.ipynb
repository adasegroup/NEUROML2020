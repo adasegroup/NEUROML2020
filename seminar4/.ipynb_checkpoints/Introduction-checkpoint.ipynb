{
 "cells": [
  {
   "cell_type": "markdown",
   "metadata": {
    "slideshow": {
     "slide_type": "slide"
    }
   },
   "source": [
    "# fMRI data preprocessing - Introduction"
   ]
  },
  {
   "cell_type": "markdown",
   "metadata": {},
   "source": [
    "[![Open In Colab](https://colab.research.google.com/assets/colab-badge.svg)](https://colab.research.google.com/github/adasegroup/NEUROML2020/blob/seminar4/seminar-4/Introduction.ipynb)"
   ]
  },
  {
   "cell_type": "markdown",
   "metadata": {
    "slideshow": {
     "slide_type": "subslide"
    }
   },
   "source": [
    "fMRI scans are saved in dicom format. For scientific analysis of brain images the nifty format (.nii files) are often used.\n",
    "The conversion from dicom to nifty can be done with [dcm2niix](https://www.nitrc.org/plugins/mwiki/index.php/dcm2nii:MainPage#Introduction) \n",
    "\n",
    "Many file are generated during fMRI sessions. These can arranged in many ways, thus a standard is needed how to arrange them. \n",
    "Commonly used standard is [Brain Imaging Data Structure (BIDS)](https://bids.neuroimaging.io/).\n",
    "\n",
    "You can use [HeuDiConv](https://heudiconv.readthedocs.io/en/latest/) or [Dcm2Bids](https://cbedetti.github.io/Dcm2Bids/tutorial/) to automate the conversion from dicom to BIDS.\n",
    "\n",
    "![DICOM TO BIDS](https://www.incf.org/sites/default/files/articles/bids_standard-2.jpg)"
   ]
  },
  {
   "cell_type": "markdown",
   "metadata": {
    "slideshow": {
     "slide_type": "slide"
    }
   },
   "source": [
    "Let's download the data we will be working with. We will download data through DataLad. It's destibuted data managements system, its provide data storage and version control.\n",
    "\n",
    "http://www.datalad.org/ \n",
    "\n",
    "about the data, that we working with:\n",
    "https://www.ncbi.nlm.nih.gov/pmc/articles/PMC3641991/"
   ]
  },
  {
   "cell_type": "code",
   "execution_count": 2,
   "metadata": {
    "slideshow": {
     "slide_type": "fragment"
    }
   },
   "outputs": [
    {
     "name": "stdout",
     "output_type": "stream",
     "text": [
      "get(ok): derivatives/fmriprep/sub-06/anat/sub-06_t1w_space-mni152nlin2009casym_preproc.nii.gz (file) [from web...]\n",
      "get(ok): derivatives/fmriprep/sub-01/anat/sub-01_t1w_space-mni152nlin2009casym_preproc.nii.gz (file) [from web...]\n",
      "get(ok): derivatives/fmriprep/sub-02/anat/sub-02_t1w_space-mni152nlin2009casym_preproc.nii.gz (file) [from origin...]\n",
      "get(ok): derivatives/fmriprep/sub-09/anat/sub-09_t1w_space-mni152nlin2009casym_preproc.nii.gz (file) [from web...]\n",
      "get(ok): derivatives/fmriprep/sub-05/anat/sub-05_t1w_space-mni152nlin2009casym_preproc.nii.gz (file) [from web...]\n",
      "get(ok): derivatives/fmriprep/sub-03/anat/sub-03_t1w_space-mni152nlin2009casym_preproc.nii.gz (file) [from origin...]\n",
      "get(ok): derivatives/fmriprep/sub-08/anat/sub-08_t1w_space-mni152nlin2009casym_preproc.nii.gz (file) [from web...]\n",
      "get(ok): derivatives/fmriprep/sub-10/anat/sub-10_t1w_preproc.nii.gz (file) [from web...]\n",
      "get(ok): derivatives/fmriprep/sub-04/anat/sub-04_t1w_space-mni152nlin2009casym_preproc.nii.gz (file) [from web...]\n",
      "get(ok): derivatives/fmriprep/sub-01/anat/sub-01_t1w_preproc.nii.gz (file) [from web...]\n",
      "get(ok): derivatives/fmriprep/sub-06/anat/sub-06_t1w_preproc.nii.gz (file) [from web...]\n",
      "get(ok): derivatives/fmriprep/sub-10/anat/sub-10_t1w_space-mni152nlin2009casym_preproc.nii.gz (file) [from origin...]\n",
      "get(ok): derivatives/fmriprep/sub-07/anat/sub-07_t1w_preproc.nii.gz (file) [from web...]\n",
      "get(ok): derivatives/fmriprep/sub-04/anat/sub-04_t1w_preproc.nii.gz (file) [from web...]\n",
      "get(ok): derivatives/fmriprep/sub-05/anat/sub-05_t1w_preproc.nii.gz (file) [from web...]\n",
      "get(ok): derivatives/fmriprep/sub-07/anat/sub-07_t1w_space-mni152nlin2009casym_preproc.nii.gz (file) [from web...]\n",
      "get(ok): derivatives/fmriprep/sub-03/anat/sub-03_t1w_preproc.nii.gz (file) [from web...]\n",
      "get(ok): derivatives/fmriprep/sub-08/anat/sub-08_t1w_preproc.nii.gz (file) [from origin...]\n",
      "get(ok): derivatives/fmriprep/sub-09/anat/sub-09_t1w_preproc.nii.gz (file) [from origin...]\n",
      "get(ok): derivatives/fmriprep/sub-02/anat/sub-02_t1w_preproc.nii.gz (file) [from origin...]\n",
      "get(ok): sub-06/ses-test/func/sub-06_ses-test_task-fingerfootlips_bold.nii.gz (file) [from web...]\n",
      "get(ok): sub-07/ses-test/func/sub-07_ses-test_task-fingerfootlips_bold.nii.gz (file) [from web...]\n",
      "get(ok): sub-03/ses-test/func/sub-03_ses-test_task-fingerfootlips_bold.nii.gz (file) [from origin...]\n",
      "get(ok): sub-08/ses-test/func/sub-08_ses-test_task-fingerfootlips_bold.nii.gz (file) [from origin...]\n",
      "get(ok): sub-10/ses-test/func/sub-10_ses-test_task-fingerfootlips_bold.nii.gz (file) [from web...]\n",
      "get(ok): sub-09/ses-test/func/sub-09_ses-test_task-fingerfootlips_bold.nii.gz (file) [from origin...]\n",
      "get(ok): sub-02/ses-test/func/sub-02_ses-test_task-fingerfootlips_bold.nii.gz (file) [from web...]\n",
      "get(ok): sub-04/ses-test/func/sub-04_ses-test_task-fingerfootlips_bold.nii.gz (file) [from origin...]\n",
      "get(ok): sub-05/ses-test/func/sub-05_ses-test_task-fingerfootlips_bold.nii.gz (file) [from origin...]\n",
      "action summary:\n",
      "  get (notneeded: 2, ok: 29)\n"
     ]
    }
   ],
   "source": [
    "%%bash\n",
    "datalad get -J 4 -d /data/ds000114 \\\n",
    "    /data/ds000114/derivatives/fmriprep/sub-*/anat/*preproc.nii.gz \\\n",
    "    /data/ds000114/sub-*/ses-test/func/*fingerfootlips*"
   ]
  },
  {
   "cell_type": "code",
   "execution_count": 4,
   "metadata": {
    "slideshow": {
     "slide_type": "fragment"
    }
   },
   "outputs": [
    {
     "name": "stdout",
     "output_type": "stream",
     "text": [
      "ses-retest/\n",
      "    dwi/\n",
      "        sub-01_ses-retest_dwi.nii.gz\n",
      "    func/\n",
      "        sub-01_ses-retest_task-linebisection_events.tsv\n",
      "        sub-01_ses-retest_task-covertverbgeneration_bold.nii.gz\n",
      "        sub-01_ses-retest_task-linebisection_bold.nii.gz\n",
      "        sub-01_ses-retest_task-fingerfootlips_bold.nii.gz\n",
      "        sub-01_ses-retest_task-overtwordrepetition_bold.nii.gz\n",
      "        sub-01_ses-retest_task-overtverbgeneration_bold.nii.gz\n",
      "    anat/\n",
      "        sub-01_ses-retest_T1w.nii.gz\n"
     ]
    }
   ],
   "source": [
    "from utils import list_files\n",
    "# The data is already in BIDS format\n",
    "# The subjects peformed 5 tasks. We will focus on fingerfootlips task\n",
    "list_files('/data/ds000114/sub-01/ses-retest')"
   ]
  },
  {
   "cell_type": "markdown",
   "metadata": {
    "slideshow": {
     "slide_type": "slide"
    }
   },
   "source": [
    "With nibabel we can load a file and inspect its properties."
   ]
  },
  {
   "cell_type": "code",
   "execution_count": 27,
   "metadata": {
    "slideshow": {
     "slide_type": "fragment"
    }
   },
   "outputs": [
    {
     "name": "stdout",
     "output_type": "stream",
     "text": [
      "Anatomical dimensionality is 3 and fmri is 4\n",
      "Anatomical voxelization: (256, 156, 256)\n",
      "fMRI voxelization: (64, 64, 30, 184)\n",
      "\n",
      "Anatomical volume affine:\n",
      "[[ 9.99182463e-01 -5.10393567e-02  9.58159845e-03 -1.27317017e+02]\n",
      " [ 3.95217389e-02  1.29798853e+00 -2.68560350e-02 -8.03349991e+01]\n",
      " [-8.51583015e-03  3.53622437e-02  9.99593377e-01 -1.38213226e+02]\n",
      " [ 0.00000000e+00  0.00000000e+00  0.00000000e+00  1.00000000e+00]]\n",
      "fMRI affine:\n",
      "[[-3.99471426e+00 -2.04233140e-01  2.29353290e-02  1.30641693e+02]\n",
      " [-2.05448717e-01  3.98260689e+00 -3.10890853e-01 -9.74732285e+01]\n",
      " [ 6.95819734e-03  3.11659902e-01  3.98780894e+00 -8.06465759e+01]\n",
      " [ 0.00000000e+00  0.00000000e+00  0.00000000e+00  1.00000000e+00]]\n"
     ]
    }
   ],
   "source": [
    "import nibabel\n",
    "from nilearn import plotting\n",
    "import numpy as np\n",
    "import warnings\n",
    "warnings.filterwarnings('ignore')\n",
    "\n",
    "anat = nibabel.load('/data/ds000114/derivatives/fmriprep/sub-01/anat/sub-01_t1w_preproc.nii.gz')\n",
    "fmri = nibabel.load('/data/ds000114/sub-01/ses-test/func/sub-01_ses-test_task-fingerfootlips_bold.nii.gz')\n",
    "\n",
    "print(f'Anatomical dimensionality is {anat.ndim} and fmri is {fmri.ndim}')\n",
    "#The anatomical image have higher resolution then the fmri\n",
    "print(f'Anatomical voxelization: {anat.shape}\\nfMRI voxelization: {fmri.shape}')\n",
    "#the data can be accessed as\n",
    "print(f'\\nAnatomical volume affine:\\n{anat.affine}\\nfMRI affine:\\n{fmri.affine}')\n",
    "data = np.array(anat.dataobj)"
   ]
  },
  {
   "cell_type": "markdown",
   "metadata": {
    "slideshow": {
     "slide_type": "slide"
    }
   },
   "source": [
    "Lets stop on SliceTiming key, unlike a photograph, in which the entire picture is taken in a single moment, an fMRI volume is acquired in slices. Each of these slices takes time to acquire - from tens to hundreds of milliseconds."
   ]
  },
  {
   "cell_type": "markdown",
   "metadata": {
    "slideshow": {
     "slide_type": "fragment"
    }
   },
   "source": [
    "The two most commonly used methods for creating volumes are sequential and interleaved slice acquisition. Sequential slice acquisition acquires each adjacent slice consecutively, either bottom-to-top or top-to-bottom. Interleaved slice acquisition acquires every other slice, and then fills in the gaps on the second pass. Both of these methods are illustrated in the video below.\n",
    "\n",
    "https://www.brainvoyager.com/bv/doc/UsersGuide/Preprocessing/SliceScanTimeCorrection.html"
   ]
  },
  {
   "cell_type": "markdown",
   "metadata": {
    "slideshow": {
     "slide_type": "subslide"
    }
   },
   "source": [
    "![SliceTiming](https://andysbrainbook.readthedocs.io/en/latest/_images/SliceTimingCorrection_Demo.gif \"slicetiming\")"
   ]
  },
  {
   "cell_type": "code",
   "execution_count": 40,
   "metadata": {},
   "outputs": [
    {
     "data": {
      "text/plain": [
       "{'EchoTime': 0.05,\n",
       " 'FlipAngle': 90,\n",
       " 'RepetitionTime': 2.5,\n",
       " 'SliceTiming': [0.0,\n",
       "  1.2499999999999998,\n",
       "  0.08333333333333333,\n",
       "  1.333333333333333,\n",
       "  0.16666666666666666,\n",
       "  1.4166666666666663,\n",
       "  0.25,\n",
       "  1.4999999999999996,\n",
       "  0.3333333333333333,\n",
       "  1.5833333333333328,\n",
       "  0.41666666666666663,\n",
       "  1.666666666666666,\n",
       "  0.5,\n",
       "  1.7499999999999993,\n",
       "  0.5833333333333333,\n",
       "  1.8333333333333326,\n",
       "  0.6666666666666666,\n",
       "  1.9166666666666659,\n",
       "  0.75,\n",
       "  1.9999999999999991,\n",
       "  0.8333333333333333,\n",
       "  2.083333333333332,\n",
       "  0.9166666666666666,\n",
       "  2.1666666666666656,\n",
       "  1.0,\n",
       "  2.249999999999999,\n",
       "  1.0833333333333333,\n",
       "  2.333333333333332,\n",
       "  1.1666666666666665,\n",
       "  2.416666666666665],\n",
       " 'TaskName': 'finger_foot_lips'}"
      ]
     },
     "execution_count": 40,
     "metadata": {},
     "output_type": "execute_result"
    }
   ],
   "source": [
    "import json\n",
    "\n",
    "#metadata is located in json files\n",
    "with open('/data/ds000114/task-fingerfootlips_bold.json', 'rt') as fp:\n",
    "    task_info = json.load(fp)\n",
    "task_info"
   ]
  },
  {
   "cell_type": "code",
   "execution_count": 44,
   "metadata": {
    "slideshow": {
     "slide_type": "fragment"
    }
   },
   "outputs": [
    {
     "data": {
      "text/plain": [
       "30"
      ]
     },
     "execution_count": 44,
     "metadata": {},
     "output_type": "execute_result"
    }
   ],
   "source": [
    "len(task_info['SliceTiming'])"
   ]
  },
  {
   "cell_type": "markdown",
   "metadata": {
    "slideshow": {
     "slide_type": "slide"
    }
   },
   "source": [
    "# Introduction Nipype"
   ]
  },
  {
   "cell_type": "markdown",
   "metadata": {
    "slideshow": {
     "slide_type": "subslide"
    }
   },
   "source": [
    "**Why nipype?**\n",
    "\n",
    "Nipype allows to build preprocessing pipelines from different softwares, and it is computationally efficient. There are some helpful ready to use pipleines written with Nipype like [fmriprep](https://fmriprep.org/en/stable/index.html). To use fmriprep the data have to be in valid BIDS format. The user have to supply only the path to the data setup the [parametars](https://fmriprep.org/en/stable/usage.html#command-line-arguments). \n",
    "\n",
    "In Nipype, interfaces are python modules that allow you to use various external packages (e.g. FSL, SPM or FreeSurfer), even if they themselves are written in another programming language than python. Such an interface knows what sort of options an external program has and how to execute it.\n",
    "\n",
    "![Nipype architecture](https://raw.github.com/satra/intro2nipype/master/images/arch.png)\n",
    "\n",
    "In Nipype, a node is an object that executes a certain function. This function can be anything from a Nipype interface to a user-specified function or an external script. Each node consists of a name, an interface category and at least one input field, and at least one output field.\n",
    "\n",
    "\n",
    "Once you connect multiple nodes to each other, you create a directed graph. In Nipype we call such graphs either workflows or pipelines. Directed connections can only be established from an output field of a node to an input field of another node."
   ]
  },
  {
   "cell_type": "code",
   "execution_count": 49,
   "metadata": {
    "slideshow": {
     "slide_type": "slide"
    }
   },
   "outputs": [
    {
     "name": "stdout",
     "output_type": "stream",
     "text": [
      "210919-18:16:51,65 nipype.workflow INFO:\n",
      "\t [Node] Setting-up \"a_x_b\" in \"/tmp/tmpqiswn1p2/a_x_b\".\n",
      "210919-18:16:51,71 nipype.workflow INFO:\n",
      "\t [Node] Running \"a_x_b\" (\"nipype.interfaces.utility.wrappers.Function\")\n",
      "210919-18:16:51,76 nipype.workflow INFO:\n",
      "\t [Node] Finished \"a_x_b\".\n"
     ]
    },
    {
     "data": {
      "text/plain": [
       "\n",
       "multiply_result = 6"
      ]
     },
     "execution_count": 49,
     "metadata": {},
     "output_type": "execute_result"
    }
   ],
   "source": [
    "from nipype import Node, Function, Workflow\n",
    "from IPython.display import Image, clear_output\n",
    "\n",
    "\n",
    "def multiply(a, b):\n",
    "    return a * b\n",
    "\n",
    "#Create a Node that multiplies 2 numbers\n",
    "mul = Node(Function(input_names=['a', 'b'],\n",
    "                      output_names=['multiply_result'],\n",
    "                      function=multiply), \n",
    "             name='a_x_b')\n",
    "\n",
    "mul.inputs.a = 2\n",
    "mul.inputs.b = 3\n",
    "\n",
    "result = mul.run()\n",
    "result.outputs"
   ]
  },
  {
   "cell_type": "code",
   "execution_count": 50,
   "metadata": {
    "slideshow": {
     "slide_type": "fragment"
    }
   },
   "outputs": [
    {
     "data": {
      "image/png": "[encoded data removed]",
      "text/plain": [
       "<IPython.core.display.Image object>"
      ]
     },
     "execution_count": 50,
     "metadata": {},
     "output_type": "execute_result"
    }
   ],
   "source": [
    "#Create a Node that adds 2 numbers\n",
    "def add(a, b):\n",
    "    return a + b\n",
    "\n",
    "\n",
    "\n",
    "adder = Node(Function(input_names=['a', 'b'],\n",
    "                      output_names=['add'],\n",
    "                      function=add), \n",
    "             name='a_plus_b')\n",
    "adder.inputs.b = 10\n",
    "\n",
    "#Create a workflow \n",
    "wf = Workflow('hello')\n",
    "# connect the nodes \n",
    "wf.connect(mul, 'multiply_result', adder, 'a')\n",
    "#visualize the graph\n",
    "wf.write_graph(graph2use='flat', format='png', simple_form=True)\n",
    "clear_output()\n",
    "Image(filename='graph_detailed.png')"
   ]
  },
  {
   "cell_type": "code",
   "execution_count": 63,
   "metadata": {
    "slideshow": {
     "slide_type": "fragment"
    }
   },
   "outputs": [
    {
     "data": {
      "text/plain": [
       "[\n",
       " multiply_result = 6,\n",
       " \n",
       " add = 16]"
      ]
     },
     "execution_count": 63,
     "metadata": {},
     "output_type": "execute_result"
    }
   ],
   "source": [
    "#run the graph\n",
    "eg = wf.run()\n",
    "clear_output()#don't print the pipeline steps during exection\n",
    "#check the results\n",
    "eg = list(eg.nodes())\n",
    "nodes_outputs = [node.result.outputs for node in eg]\n",
    "nodes_outputs"
   ]
  },
  {
   "cell_type": "markdown",
   "metadata": {
    "slideshow": {
     "slide_type": "subslide"
    }
   },
   "source": [
    "**Dataset:**\n",
    "[A test-retest fMRI dataset for motor, language and spatial attention functions](https://openneuro.org/datasets/ds000114/versions/1.0.1)\n",
    "\n",
    "**About nipype**\n",
    "https://www.frontiersin.org/articles/10.3389/fninf.2011.00013/full\n",
    "\n",
    "**Thanks to Michael Notter for the wonderful [nipype tutorial](https://miykael.github.io/nipype_tutorial/)**"
   ]
  },
  {
   "cell_type": "code",
   "execution_count": null,
   "metadata": {},
   "outputs": [],
   "source": []
  }
 ],
 "metadata": {
  "anaconda-cloud": {},
  "celltoolbar": "Slideshow",
  "kernelspec": {
   "display_name": "Python 3",
   "language": "python",
   "name": "python3"
  },
  "language_info": {
   "codemirror_mode": {
    "name": "ipython",
    "version": 3
   },
   "file_extension": ".py",
   "mimetype": "text/x-python",
   "name": "python",
   "nbconvert_exporter": "python",
   "pygments_lexer": "ipython3",
   "version": "3.6.10"
  }
 },
 "nbformat": 4,
 "nbformat_minor": 2
}
